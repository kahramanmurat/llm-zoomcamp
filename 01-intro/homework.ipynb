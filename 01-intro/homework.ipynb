{
 "cells": [
  {
   "cell_type": "code",
   "execution_count": 3,
   "id": "cae05dca-bcfe-4922-849c-f4ec74fe1b7e",
   "metadata": {},
   "outputs": [],
   "source": [
    "import openai\n",
    "import os"
   ]
  },
  {
   "cell_type": "code",
   "execution_count": 2,
   "id": "abeb7a91-612a-4e06-a044-e3374c3ec279",
   "metadata": {},
   "outputs": [],
   "source": [
    "from openai import OpenAI"
   ]
  },
  {
   "cell_type": "code",
   "execution_count": 5,
   "id": "6445d2c9-a5a7-4461-9d71-ba30bd0d45b1",
   "metadata": {},
   "outputs": [],
   "source": [
    "client=OpenAI()"
   ]
  },
  {
   "cell_type": "code",
   "execution_count": 6,
   "id": "be1fc910-979e-4908-8718-fe7830784e69",
   "metadata": {},
   "outputs": [],
   "source": [
    "response=client.chat.completions.create(\n",
    "    model='gpt-4o',\n",
    "    messages=[{\"role\":\"user\",\"content\":\"is it too late to join the course?\"}]\n",
    ")"
   ]
  },
  {
   "cell_type": "code",
   "execution_count": 7,
   "id": "2527d68c-7007-4963-8705-e471035cb333",
   "metadata": {},
   "outputs": [
    {
     "data": {
      "text/plain": [
       "ChatCompletion(id='chatcmpl-9bgShXrkgxyjElJ9MyXaNiMt7zQCw', choices=[Choice(finish_reason='stop', index=0, logprobs=None, message=ChatCompletionMessage(content=\"The answer to whether it's too late to join a course depends on several factors, such as the specific course you are considering, the enrollment deadlines set by the institution, and the progress already made in the course. Here are a few steps you can take to find out if you can still join:\\n\\n1. **Check Enrollment Deadlines**: Look for information on the course or program's official website. They often provide deadlines for registration and enrollment.\\n\\n2. **Contact the Institution**: Reach out to the admissions office or the course instructor directly. They can offer you the most definitive answer and may explain any late enrollment policies if they exist.\\n\\n3. **Online Platforms**: If the course is offered through an online learning platform (e.g., Coursera, edX, Udemy), check the course page. Online courses may have more flexible start dates.\\n\\n4. **Catch-Up Policies**: Some courses may allow late enrollment if you can catch up on missed lectures and assignments. Inquire about the possibility of making up for lost time.\\n\\n5. **Waitlists**: Ask if there is a waitlist you can join. Sometimes students drop out, and spots open up later.\\n\\nFeel free to provide more details if you need specific advice tailored to a particular course or institution!\", role='assistant', function_call=None, tool_calls=None))], created=1718768387, model='gpt-4o-2024-05-13', object='chat.completion', system_fingerprint='fp_5e6c71d4a8', usage=CompletionUsage(completion_tokens=257, prompt_tokens=16, total_tokens=273))"
      ]
     },
     "execution_count": 7,
     "metadata": {},
     "output_type": "execute_result"
    }
   ],
   "source": [
    "response"
   ]
  },
  {
   "cell_type": "code",
   "execution_count": 11,
   "id": "2f290319-5323-4fb8-a575-ac0d7a4eb6f5",
   "metadata": {},
   "outputs": [
    {
     "data": {
      "text/plain": [
       "\"The answer to whether it's too late to join a course depends on several factors, such as the specific course you are considering, the enrollment deadlines set by the institution, and the progress already made in the course. Here are a few steps you can take to find out if you can still join:\\n\\n1. **Check Enrollment Deadlines**: Look for information on the course or program's official website. They often provide deadlines for registration and enrollment.\\n\\n2. **Contact the Institution**: Reach out to the admissions office or the course instructor directly. They can offer you the most definitive answer and may explain any late enrollment policies if they exist.\\n\\n3. **Online Platforms**: If the course is offered through an online learning platform (e.g., Coursera, edX, Udemy), check the course page. Online courses may have more flexible start dates.\\n\\n4. **Catch-Up Policies**: Some courses may allow late enrollment if you can catch up on missed lectures and assignments. Inquire about the possibility of making up for lost time.\\n\\n5. **Waitlists**: Ask if there is a waitlist you can join. Sometimes students drop out, and spots open up later.\\n\\nFeel free to provide more details if you need specific advice tailored to a particular course or institution!\""
      ]
     },
     "execution_count": 11,
     "metadata": {},
     "output_type": "execute_result"
    }
   ],
   "source": [
    "response.choices[0].message.content"
   ]
  },
  {
   "cell_type": "code",
   "execution_count": null,
   "id": "f70f020c-298d-4438-99ed-b8d9038d69c3",
   "metadata": {},
   "outputs": [],
   "source": []
  }
 ],
 "metadata": {
  "kernelspec": {
   "display_name": "Python 3 (ipykernel)",
   "language": "python",
   "name": "python3"
  },
  "language_info": {
   "codemirror_mode": {
    "name": "ipython",
    "version": 3
   },
   "file_extension": ".py",
   "mimetype": "text/x-python",
   "name": "python",
   "nbconvert_exporter": "python",
   "pygments_lexer": "ipython3",
   "version": "3.10.13"
  }
 },
 "nbformat": 4,
 "nbformat_minor": 5
}
