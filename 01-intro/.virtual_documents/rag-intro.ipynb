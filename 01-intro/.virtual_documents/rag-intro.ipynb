!wget https://github.com/DataTalksClub/llm-zoomcamp/blob/main/01-intro/minsearch.py


!ls


import minsearch


import json


with open("documents.json","rt") as f_in:
    docs_raw=json.load(f_in)


docs_raw


documents = []

for course_dict in docs_raw:
    for doc in course_dict['documents']:
        doc['course'] = course_dict['course']
        documents.append(doc)



documents[0]


q="the course has already started, can i still enroll"


index = minsearch.Index(
    text_fields=["question", "text", "section"],
    keyword_fields=["course"]
)


index.fit(documents)


boost={'question' : 3.0, 'section': 0.5}

results=index.search(
    query=q,
    filter_dict={'course': 'data-engineering-zoomcamp'},
    boost_dict=boost,
    num_results=5
)


results


from dotenv import load_dotenv
import openai
import os


from openai import OpenAI


# Load environment variables from the .env file
load_dotenv()


# Access the variables
api_key = os.getenv('OPENAI_API_KEY')


client = openai.OpenAI(api_key=api_key)


response=client.chat.completions.create(
    model='gpt-4o',
    messages=[{"role":"user","content":q}]
)


response.choices[0].message.content


prompt_template="""
You're a course teaching assistant. Answer the QUESTION based on the CONTEXT from the FAQ database. 
Use only the facts from CONTEXT when answering the QUESTION.
If the CONTEXT doesn't contain the answer, output NONE

QUESTION: {question}

CONTEXT:
{context}
""".strip()


context=""

for doc in results:
    context=context + f"section: {doc['section']}\nquestion: {doc['question']}\nanswer: {doc['text']}\n\n"



print(context)


prompt=prompt_template.format(question=q,context=context).strip()


print(prompt)


response=client.chat.completions.create(
    model='gpt-4o',
    messages=[{"role":"user","content":prompt}])


response.choices[0].message.content


def search(query):

    boost={'question' : 3.0, 'section': 0.5}

    results=index.search(
    query=query,
    filter_dict={'course': 'data-engineering-zoomcamp'},
    boost_dict=boost,
    num_results=100)
    
    return results
    


query='how do i run kafka'
search_results=search(query)





def build_prompt(query,search_results):
    prompt_template="""
    You're a course teaching assistant. Answer the QUESTION based on the CONTEXT from the FAQ database. 
    Use only the facts from CONTEXT when answering the QUESTION.

    
    QUESTION: {question}
    
    CONTEXT:
    {context}
    """.strip()
    
    context=""
    
    for doc in search_results:
        context=context + f"section: {doc['section']}\nquestion: {doc['question']}\nanswer: {doc['text']}\n\n"
        
    prompt=prompt_template.format(question=query,context=context).strip()
    return prompt
        



def llm(prompt):
    response=client.chat.completions.create(model='gpt-4o', messages=[{"role":"user","content":prompt}])
    return response.choices[0].message.content




prompt=build_prompt(query,search_results)


query='how do i run kafka'


def rag(query):
    search_results=search(query)
    prompt=build_prompt(query,search_results)
    answer=llm(prompt)
    return answer


rag(query)


rag('the course already started, can i still enroll?')


documents[0]


from elasticsearch import Elasticsearch


es_client=Elasticsearch('http://localhost:9200')


es_client.info()


index_settings={
    "settings": {
        "number_of_shards": 1,
        "number_of_replicas": 0
    },
    "mappings": {
        "properties": {
            "text": {"type": "text"},
            "section": {"type": "text"},
            "question": {"type": "text"},
            "course": {"type": "keyword"} 
        }
    }
}

index_name='course-questions'

es_client.indices.create(index=index_name,body=index_settings)


from tqdm.auto import tqdm


for doc in documents:
    es_client.index(index=index_name,document=doc)


query='i just discovered the course. Can i still join it'


def elastic_search(query):
    search_query={
    "size": 5,
    "query": {
        "bool": {
            "must": {
                "multi_match": {
                    "query": query,
                    "fields": ["question^3", "text", "section"],
                    "type": "best_fields"
                }
            },
            "filter": {
                "term": {
                    "course": "data-engineering-zoomcamp"
                }
            }
        }
    }
    }
    response=es_client.search(index=index_name, body=search_query)
    
    result_docs=[]
    
    for response in response['hits']['hits']:
        result_docs.append(response['_source'])
    return result_docs


elastic_search(query)


def rag(query):
    search_results=elastic_search(query)
    prompt=build_prompt(query,search_results)
    answer=llm(prompt)
    return answer


rag(query)



